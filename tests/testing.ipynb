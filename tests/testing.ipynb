{
 "cells": [
  {
   "cell_type": "code",
   "execution_count": null,
   "metadata": {
    "tags": []
   },
   "outputs": [],
   "source": [
    "%load_ext autoreload\n",
    "%autoreload 2\n",
    "%matplotlib inline\n",
    "%config InlineBackend.figure_format = 'retina'\n",
    "from IPython.core.interactiveshell import InteractiveShell\n",
    "\n",
    "InteractiveShell.ast_node_interactivity = \"all\""
   ]
  },
  {
   "cell_type": "code",
   "execution_count": null,
   "metadata": {
    "tags": []
   },
   "outputs": [],
   "source": [
    "from china_water_use.core import ITEMS, ChineseWater\n",
    "\n",
    "cw = ChineseWater()"
   ]
  },
  {
   "cell_type": "code",
   "execution_count": null,
   "metadata": {
    "tags": []
   },
   "outputs": [],
   "source": [
    "from china_water_use import ChineseWater\n",
    "\n",
    "# 加载数据\n",
    "cwu = ChineseWater()\n",
    "\n",
    "# 组织数据\n",
    "#\n",
    "provinces = [\n",
    "    \"Qinghai\",\n",
    "    \"Gansu\",\n",
    "    \"Neimeng\",\n",
    "    \"Ningxia\",\n",
    "    \"Shanxi\",\n",
    "    \"Shaanxi\",\n",
    "    \"Henan\",\n",
    "    \"Shandong\",\n",
    "]\n",
    "# 更新研究范围:\n",
    "# - 关注以下省份的城市\n",
    "# - 关注用水强度 (WUI)\n",
    "# - 关注灌溉行业\n",
    "cities = cwu.update_scope(\"Province_n\", provinces)\n",
    "wui = cwu.update_scope(\"measurements\", \"WUI\")\n",
    "sectors = cwu.update_scope(\"sectors\", \"IRR\")\n",
    "cwu.data.head()"
   ]
  },
  {
   "cell_type": "code",
   "execution_count": null,
   "metadata": {},
   "outputs": [],
   "source": [
    "# 转换单位为 mm / km^2\n",
    "data = cwu.units(\"mm * km**-2\")\n",
    "\n",
    "# 绘制数据\n",
    "print(cwu.items)  # 显示缩小关注范围后选定的条目\n",
    "cwu.scaled_plots(\"Irrigation water-use intensity (WUI): Maize\")"
   ]
  }
 ],
 "metadata": {
  "kernelspec": {
   "display_name": "Python 3 (ipykernel)",
   "language": "python",
   "name": "python3"
  },
  "language_info": {
   "codemirror_mode": {
    "name": "ipython",
    "version": 3
   },
   "file_extension": ".py",
   "mimetype": "text/x-python",
   "name": "python",
   "nbconvert_exporter": "python",
   "pygments_lexer": "ipython3",
   "version": "3.11.2"
  }
 },
 "nbformat": 4,
 "nbformat_minor": 4
}
